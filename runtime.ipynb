{
 "cells": [
  {
   "cell_type": "code",
   "execution_count": 11,
   "metadata": {},
   "outputs": [],
   "source": [
    "import math\n",
    "#Count is how many parts are left to be made\n",
    "#Time is the amount of seconds it takes to machine a part"
   ]
  },
  {
   "cell_type": "code",
   "execution_count": 12,
   "metadata": {},
   "outputs": [],
   "source": [
    "def runTimeLeft(count, time):\n",
    "    hourTimeLeft = math.floor(count * time / 3600)\n",
    "    minuteTimeLeft = (math.floor(count * time / 60)) - (hourTimeLeft * 60)\n",
    "    secondTimeLeft = (math.floor(count * time)) - ((minuteTimeLeft * 60) + (hourTimeLeft * 3600))\n",
    "    \n",
    "    print(hourTimeLeft, 'Hours')\n",
    "    print(minuteTimeLeft, 'Minutes')\n",
    "    print(secondTimeLeft, 'Seconds')"
   ]
  },
  {
   "cell_type": "markdown",
   "metadata": {},
   "source": [
    "# This is a Header\n",
    "\n",
    "- This \n",
    "- Is\n",
    "- A\n",
    "- List"
   ]
  },
  {
   "cell_type": "code",
   "execution_count": 13,
   "metadata": {},
   "outputs": [
    {
     "name": "stdout",
     "output_type": "stream",
     "text": [
      "11 Hours\n",
      "59 Minutes\n",
      "33 Seconds\n",
      "2 Hours\n",
      "8 Minutes\n",
      "8 Seconds\n"
     ]
    }
   ],
   "source": [
    "runTimeLeft(351, 123)\n",
    "runTimeLeft(124, 62)"
   ]
  }
 ],
 "metadata": {
  "interpreter": {
   "hash": "2be5faf79681da6f2a61fdfdd5405d65d042280f7fba6178067603e3a2925119"
  },
  "kernelspec": {
   "display_name": "Python 3.10.1 64-bit",
   "language": "python",
   "name": "python3"
  },
  "language_info": {
   "codemirror_mode": {
    "name": "ipython",
    "version": 3
   },
   "file_extension": ".py",
   "mimetype": "text/x-python",
   "name": "python",
   "nbconvert_exporter": "python",
   "pygments_lexer": "ipython3",
   "version": "3.10.1"
  },
  "orig_nbformat": 4
 },
 "nbformat": 4,
 "nbformat_minor": 2
}
